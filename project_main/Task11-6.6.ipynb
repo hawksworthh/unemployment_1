{
 "cells": [
  {
   "cell_type": "code",
   "execution_count": 1,
   "id": "75bb55c2",
   "metadata": {},
   "outputs": [],
   "source": [
    "import pandas as pd\n",
    "import seaborn as sns\n",
    "import numpy as np\n",
    "import matplotlib.pyplot as plt\n",
    "plt.rcParams['figure.figsize'] = (11, 7)"
   ]
  },
  {
   "cell_type": "code",
   "execution_count": 2,
   "id": "81c66009",
   "metadata": {},
   "outputs": [
    {
     "name": "stderr",
     "output_type": "stream",
     "text": [
      "C:\\Users\\victo\\AppData\\Local\\Temp\\ipykernel_17216\\4043669217.py:1: DtypeWarning: Columns (7) have mixed types. Specify dtype option on import or set low_memory=False.\n",
      "  df =  pd.read_csv('dataFine.csv')\n"
     ]
    }
   ],
   "source": [
    "df =  pd.read_csv('dataFine.csv')"
   ]
  },
  {
   "cell_type": "code",
   "execution_count": 3,
   "id": "44b8e179",
   "metadata": {},
   "outputs": [],
   "source": [
    "group_by = pd.pivot_table(df, values=\"count\",index=[\"year\",'month','education','gender', 'hc_didnotwork', 'find_new_job','hc_repeat', 'age', 'district'], aggfunc=\"sum\").reset_index()"
   ]
  },
  {
   "cell_type": "code",
   "execution_count": null,
   "id": "9aaa7aea",
   "metadata": {},
   "outputs": [],
   "source": []
  }
 ],
 "metadata": {
  "kernelspec": {
   "display_name": "Python 3 (ipykernel)",
   "language": "python",
   "name": "python3"
  },
  "language_info": {
   "codemirror_mode": {
    "name": "ipython",
    "version": 3
   },
   "file_extension": ".py",
   "mimetype": "text/x-python",
   "name": "python",
   "nbconvert_exporter": "python",
   "pygments_lexer": "ipython3",
   "version": "3.9.13"
  }
 },
 "nbformat": 4,
 "nbformat_minor": 5
}
