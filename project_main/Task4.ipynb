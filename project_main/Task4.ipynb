{
 "cells": [
  {
   "cell_type": "code",
   "execution_count": 1,
   "id": "1d40544f",
   "metadata": {},
   "outputs": [],
   "source": [
    "import pandas as pd\n",
    "import seaborn as sns\n",
    "import numpy as np\n",
    "import matplotlib.pyplot as plt\n",
    "plt.rcParams['figure.figsize'] = (11, 7)"
   ]
  },
  {
   "cell_type": "code",
   "execution_count": 2,
   "id": "4b5b0756",
   "metadata": {},
   "outputs": [
    {
     "name": "stderr",
     "output_type": "stream",
     "text": [
      "C:\\Users\\victo\\AppData\\Local\\Temp\\ipykernel_13136\\4043669217.py:1: DtypeWarning: Columns (7) have mixed types. Specify dtype option on import or set low_memory=False.\n",
      "  df =  pd.read_csv('dataFine.csv')\n"
     ]
    }
   ],
   "source": [
    "df =  pd.read_csv('dataFine.csv')"
   ]
  },
  {
   "cell_type": "code",
   "execution_count": 3,
   "id": "7b234850",
   "metadata": {},
   "outputs": [],
   "source": [
    "data_4_t = pd.pivot_table(df, values=\"count\",index=[\"year\",'month','find_new_job','region'], aggfunc=\"sum\").reset_index()"
   ]
  },
  {
   "cell_type": "code",
   "execution_count": 4,
   "id": "6674bb33",
   "metadata": {},
   "outputs": [
    {
     "data": {
      "text/html": [
       "<div>\n",
       "<style scoped>\n",
       "    .dataframe tbody tr th:only-of-type {\n",
       "        vertical-align: middle;\n",
       "    }\n",
       "\n",
       "    .dataframe tbody tr th {\n",
       "        vertical-align: top;\n",
       "    }\n",
       "\n",
       "    .dataframe thead th {\n",
       "        text-align: right;\n",
       "    }\n",
       "</style>\n",
       "<table border=\"1\" class=\"dataframe\">\n",
       "  <thead>\n",
       "    <tr style=\"text-align: right;\">\n",
       "      <th></th>\n",
       "      <th>year</th>\n",
       "      <th>month</th>\n",
       "      <th>find_new_job</th>\n",
       "      <th>region</th>\n",
       "      <th>count</th>\n",
       "    </tr>\n",
       "  </thead>\n",
       "  <tbody>\n",
       "    <tr>\n",
       "      <th>0</th>\n",
       "      <td>2017</td>\n",
       "      <td>Август</td>\n",
       "      <td>False</td>\n",
       "      <td>Алтайский край</td>\n",
       "      <td>1023</td>\n",
       "    </tr>\n",
       "    <tr>\n",
       "      <th>1</th>\n",
       "      <td>2017</td>\n",
       "      <td>Август</td>\n",
       "      <td>False</td>\n",
       "      <td>Амурская область</td>\n",
       "      <td>805</td>\n",
       "    </tr>\n",
       "    <tr>\n",
       "      <th>2</th>\n",
       "      <td>2017</td>\n",
       "      <td>Август</td>\n",
       "      <td>False</td>\n",
       "      <td>Архангельская область</td>\n",
       "      <td>635</td>\n",
       "    </tr>\n",
       "    <tr>\n",
       "      <th>3</th>\n",
       "      <td>2017</td>\n",
       "      <td>Август</td>\n",
       "      <td>False</td>\n",
       "      <td>Астраханская область</td>\n",
       "      <td>422</td>\n",
       "    </tr>\n",
       "    <tr>\n",
       "      <th>4</th>\n",
       "      <td>2017</td>\n",
       "      <td>Август</td>\n",
       "      <td>False</td>\n",
       "      <td>Белгородская область</td>\n",
       "      <td>231</td>\n",
       "    </tr>\n",
       "    <tr>\n",
       "      <th>...</th>\n",
       "      <td>...</td>\n",
       "      <td>...</td>\n",
       "      <td>...</td>\n",
       "      <td>...</td>\n",
       "      <td>...</td>\n",
       "    </tr>\n",
       "    <tr>\n",
       "      <th>8052</th>\n",
       "      <td>2020</td>\n",
       "      <td>Январь</td>\n",
       "      <td>True</td>\n",
       "      <td>Ямало-Ненецкий автономный округ</td>\n",
       "      <td>239</td>\n",
       "    </tr>\n",
       "    <tr>\n",
       "      <th>8053</th>\n",
       "      <td>2020</td>\n",
       "      <td>Январь</td>\n",
       "      <td>True</td>\n",
       "      <td>Ярославская область</td>\n",
       "      <td>667</td>\n",
       "    </tr>\n",
       "    <tr>\n",
       "      <th>8054</th>\n",
       "      <td>2020</td>\n",
       "      <td>Январь</td>\n",
       "      <td>True</td>\n",
       "      <td>г. Москва</td>\n",
       "      <td>2324</td>\n",
       "    </tr>\n",
       "    <tr>\n",
       "      <th>8055</th>\n",
       "      <td>2020</td>\n",
       "      <td>Январь</td>\n",
       "      <td>True</td>\n",
       "      <td>г. Санкт-Петербург</td>\n",
       "      <td>979</td>\n",
       "    </tr>\n",
       "    <tr>\n",
       "      <th>8056</th>\n",
       "      <td>2020</td>\n",
       "      <td>Январь</td>\n",
       "      <td>True</td>\n",
       "      <td>г. Севастополь</td>\n",
       "      <td>67</td>\n",
       "    </tr>\n",
       "  </tbody>\n",
       "</table>\n",
       "<p>8057 rows × 5 columns</p>\n",
       "</div>"
      ],
      "text/plain": [
       "      year   month  find_new_job                           region  count\n",
       "0     2017  Август         False                   Алтайский край   1023\n",
       "1     2017  Август         False                 Амурская область    805\n",
       "2     2017  Август         False            Архангельская область    635\n",
       "3     2017  Август         False             Астраханская область    422\n",
       "4     2017  Август         False             Белгородская область    231\n",
       "...    ...     ...           ...                              ...    ...\n",
       "8052  2020  Январь          True  Ямало-Ненецкий автономный округ    239\n",
       "8053  2020  Январь          True              Ярославская область    667\n",
       "8054  2020  Январь          True                        г. Москва   2324\n",
       "8055  2020  Январь          True               г. Санкт-Петербург    979\n",
       "8056  2020  Январь          True                   г. Севастополь     67\n",
       "\n",
       "[8057 rows x 5 columns]"
      ]
     },
     "execution_count": 4,
     "metadata": {},
     "output_type": "execute_result"
    }
   ],
   "source": [
    "data_4_t"
   ]
  },
  {
   "cell_type": "code",
   "execution_count": 5,
   "id": "ae688fbe",
   "metadata": {},
   "outputs": [
    {
     "data": {
      "image/png": "[encoded data removed]",
      "text/plain": [
       "<Figure size 1100x700 with 1 Axes>"
      ]
     },
     "metadata": {},
     "output_type": "display_data"
    }
   ],
   "source": [
    "data_4_t = data_4_t.replace({'find_new_job': {True:'Нашёл работу',False:'Не нашёл работу'}})\n",
    "sns.barplot(data=data_4_t,x='year', y='count', hue = 'find_new_job',ci=False, estimator = np.max).set(title='Число нашедших работу', xlabel = 'Год', ylabel = 'Число людей')\n",
    "plt.legend(title=False)\n",
    "plt.savefig('Task4_1.png')"
   ]
  },
  {
   "cell_type": "code",
   "execution_count": null,
   "id": "0656603b",
   "metadata": {},
   "outputs": [],
   "source": []
  },
  {
   "cell_type": "code",
   "execution_count": null,
   "id": "3859ab07",
   "metadata": {},
   "outputs": [],
   "source": []
  }
 ],
 "metadata": {
  "kernelspec": {
   "display_name": "Python 3 (ipykernel)",
   "language": "python",
   "name": "python3"
  },
  "language_info": {
   "codemirror_mode": {
    "name": "ipython",
    "version": 3
   },
   "file_extension": ".py",
   "mimetype": "text/x-python",
   "name": "python",
   "nbconvert_exporter": "python",
   "pygments_lexer": "ipython3",
   "version": "3.9.13"
  }
 },
 "nbformat": 4,
 "nbformat_minor": 5
}
